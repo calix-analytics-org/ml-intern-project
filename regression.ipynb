{
 "cells": [
  {
   "cell_type": "code",
   "execution_count": 2,
   "metadata": {},
   "outputs": [],
   "source": [
    "import csv\n",
    "#import sklearn\n",
    "import matplotlib.pyplot as plt\n",
    "import pandas as pd\n",
    "import snowflake.connector\n",
    "import os"
   ]
  },
  {
   "cell_type": "code",
   "execution_count": 3,
   "metadata": {},
   "outputs": [
    {
     "name": "stdout",
     "output_type": "stream",
     "text": [
      "Generating csv...\n"
     ]
    }
   ],
   "source": [
    "# This chunk uses the snowflake-python connector to load comments db data into a dataframe if the csv does not exist\n",
    "if os.path.exists(\"interactions.csv\"):\n",
    "    print(\"file exists, reloading dataframe\")\n",
    "    df_com = pd.read_csv(\"interactions.csv\")\n",
    "else:\n",
    "    print(\"Generating csv...\")\n",
    "    conn = snowflake.connector.connect( user='NAMAN.MATHUR@CALIX.COM',\n",
    "                                        authenticator='externalbrowser',\n",
    "                                        account='calix',\n",
    "                                        database='ANALYTICS',\n",
    "                                        warehouse='USER_WH',\n",
    "                                        role=\"DBT_DEVELOPER\",\n",
    "                                        schema='EDW_CE',)\n",
    "    cur = conn.cursor()\n",
    "    cur.execute(\"\"\"\n",
    "                WITH\n",
    "                NetworkMemberTotal as(\n",
    "                SELECT\n",
    "                ACCOUNT_ID,\n",
    "                COUNT(NETWORK_MEMBER_UNIQUE_KEY) as TOTAL_MEMBERS\n",
    "                FROM ANALYTICS.EDW_CE.NETWORK_MEMBER_HISTORICAL\n",
    "                WHERE DAILY_LOGINS_LAST_180 > 0 AND NETWORK_NAME = 'Calix Community' AND LAST_RUN_AT_DATE = '2022-12-31'\n",
    "                GROUP BY 1),\n",
    "\n",
    "                NetworkMemberActive as(\n",
    "                SELECT\n",
    "                ACCOUNT_ID,\n",
    "                COUNT(NETWORK_MEMBER_UNIQUE_KEY) as ACTIVE_MEMBERS\n",
    "                FROM ANALYTICS.EDW_CE.NETWORK_MEMBER_HISTORICAL\n",
    "                WHERE DAILY_LOGINS_LAST_90 > 0 AND NETWORK_NAME = 'Calix Community' AND LAST_RUN_AT_DATE = '2022-12-31'\n",
    "                GROUP BY 1),\n",
    "\n",
    "                CustomerActivities as (\n",
    "                SELECT\n",
    "                c.ACCOUNT_ID,\n",
    "                COUNT(DISTINCT(ID)) as ACTIVITY_COUNT,\n",
    "                COUNT(DISTINCT(CONTACT_ID)) as ACTIVITY_MEMBER_COUNT\n",
    "                FROM ANALYTICS.EDW_CE.COMMUNITY_ACTIVITY c\n",
    "                WHERE CREATED_DATE BETWEEN '2022-01-01' AND '2022-12-31'\n",
    "                GROUP BY c.ACCOUNT_ID),\n",
    "\n",
    "                Account AS\n",
    "                (SELECT\n",
    "                A.ACCOUNT_ID,\n",
    "                A.ACCOUNT_ORACLE_ID\n",
    "                FROM ANALYTICS.EDW_CE.ACCOUNT A),\n",
    "\n",
    "                Combined AS (\n",
    "                SELECT c.ACCOUNT_ID, ACCOUNT_ORACLE_ID, ACTIVITY_COUNT, ACTIVITY_MEMBER_COUNT, TOTAL_MEMBERS, ACTIVE_MEMBERS\n",
    "                FROM CustomerActivities c\n",
    "                LEFT JOIN NetworkMemberTotal nt ON c.ACCOUNT_ID = nt.ACCOUNT_ID\n",
    "                LEFT JOIN NetworkMemberActive na ON c.ACCOUNT_ID = na.ACCOUNT_ID\n",
    "                LEFT JOIN Account A ON c.ACCOUNT_ID = A.ACCOUNT_ID)\n",
    "\n",
    "                SELECT * FROM COMBINED WHERE ACCOUNT_ORACLE_ID IS NOT NULL\n",
    "                \"\"\")\n",
    "    d = cur.fetchall()\n",
    "    cols = [] \n",
    "    for i in cur.description:\n",
    "        cols.append(i[0])\n",
    "    df_com = pd.DataFrame(d, columns=cols)\n",
    "\n",
    "    df_com.to_csv('interactions.csv')\n"
   ]
  },
  {
   "cell_type": "code",
   "execution_count": 5,
   "metadata": {},
   "outputs": [
    {
     "name": "stdout",
     "output_type": "stream",
     "text": [
      "file exists, reloading dataframe\n"
     ]
    }
   ],
   "source": [
    "# This chunk uses the snowflake-python connector to load seployments db data into a dataframe if the csv does not exist\n",
    "if os.path.exists(\"deployments.csv\"):\n",
    "    print(\"file exists, reloading dataframe\") \n",
    "    df_dep = pd.read_csv(\"deployments.csv\")\n",
    "else:\n",
    "    print(\"Generating csv...\")\n",
    "    conn = snowflake.connector.connect( user='NAMAN.MATHUR@CALIX.COM',\n",
    "                                        authenticator='externalbrowser',\n",
    "                                        account='calix',\n",
    "                                        database='ANALYTICS',\n",
    "                                        warehouse='USER_WH',\n",
    "                                        role=\"DBT_DEVELOPER\",\n",
    "                                        schema='EDW_CE',)\n",
    "    cur = conn.cursor()\n",
    "    cur.execute(\"\"\"\n",
    "                SELECT\n",
    "                G.SNAPSHOT_DATE,\n",
    "                G.ORG_ID,\n",
    "                G.ORACLE_ID,\n",
    "                A.ACCOUNT_NAME,\n",
    "                G.SOFTWARE_VERSION,\n",
    "                G.MODEL_NAME,\n",
    "                G.SKU,\n",
    "                G.PREMISE_SUBTYPE, \n",
    "                G.GS_30_DAYS_COUNT, \n",
    "                G.GS_ALL_TIME_COUNT,\n",
    "                G.GATEWAY_30_DAYS_COUNT as GS_SUBSCRIBERS\n",
    "                FROM\n",
    "                \"ANALYTICS\".\"EDW_CE\".\"GIGASPIRE_DEPLOYMENTS_HISTORICAL\" G\n",
    "                LEFT JOIN \"ANALYTICS\".\"EDW_CE\".\"ACCOUNT\" A ON ORACLE_ID = A.ACCOUNT_ORACLE_ID\n",
    "                WHERE \n",
    "                (G.PREMISE_TYPE = 'GigaSpire' OR G.PREMISE_TYPE = 'GigaSpire - DTM')\n",
    "                AND G.SNAPSHOT_DATE = '2022-12-31'\n",
    "                AND ORACLE_ID IS NOT NULL\n",
    "                \"\"\")\n",
    "    d = cur.fetchall()\n",
    "    cols = [] \n",
    "    for i in cur.description:\n",
    "        cols.append(i[0])\n",
    "    df_dep = pd.DataFrame(d, columns=cols)\n",
    "\n",
    "    df_dep.to_csv('deployments.csv')"
   ]
  },
  {
   "cell_type": "code",
   "execution_count": null,
   "metadata": {},
   "outputs": [],
   "source": [
    "#Primary Visualization for Total Interactions\n",
    "\n",
    "dep_agg = df_dep.groupby(by=['ORACLE_ID']).GS_ALL_TIME_COUNT.sum().reset_index()\n",
    "com_agg = df_com.groupby(by=['ACCOUNT_ORACLE_ID']).count().reset_index()[['ACCOUNT_ORACLE_ID', 'ID']]\n",
    "\n",
    "dep_agg[\"ORACLE_ID\"] = dep_agg[\"ORACLE_ID\"].astype(float)\n",
    "com_agg[\"ACCOUNT_ORACLE_ID\"] = com_agg[\"ACCOUNT_ORACLE_ID\"].astype(float)\n",
    "\n",
    "\n",
    "total = pd.merge(dep_agg, com_agg, left_on='ORACLE_ID', right_on='ACCOUNT_ORACLE_ID')\n",
    "\n",
    "plt.clf()\n",
    "plt.scatter(total[\"ID\"], total[\"GS_ALL_TIME_COUNT\"])\n",
    "plt.xlabel(\"Number of GigaSpire-Related Interactions\")\n",
    "plt.ylabel(\"Number of Deployments\")\n",
    "plt.title(\"Deployments vs. GigaSpire Interactions\")\n",
    "plt.savefig(\"Deployments_vs._GigaSpire_Interactions.png\")"
   ]
  },
  {
   "cell_type": "code",
   "execution_count": null,
   "metadata": {},
   "outputs": [],
   "source": [
    "# Visualizations for overall interactions\n",
    "\n",
    "roles = [\"Manager\", \"Specialist\", 'Engineer', 'Technician']\n",
    "functions = [\"Marketing\", \"Sales\", 'Operations']\n",
    "\n",
    "for role in roles:\n",
    "    for function in functions:\n",
    "\n",
    "        dep_agg = df_dep.groupby(by=['ORACLE_ID']).GS_ALL_TIME_COUNT.sum().reset_index()\n",
    "        com_agg = df_com.groupby(by=['ACCOUNT_ORACLE_ID', 'LEVEL', 'FUNCTION']).count().reset_index()[['ACCOUNT_ORACLE_ID', 'ID', 'LEVEL', \"FUNCTION\"]]\n",
    "        com_agg = com_agg.query(\"LEVEL=='\"+role+\"' & FUNCTION=='\"+function+\"'\")\n",
    "        \n",
    "        dep_agg[\"ORACLE_ID\"] = dep_agg[\"ORACLE_ID\"].astype(float)\n",
    "        com_agg[\"ACCOUNT_ORACLE_ID\"] = com_agg[\"ACCOUNT_ORACLE_ID\"].astype(float)\n",
    "\n",
    "        total = pd.merge(dep_agg, com_agg, left_on='ORACLE_ID', right_on='ACCOUNT_ORACLE_ID')\n",
    "\n",
    "        plt.clf()\n",
    "        plt.scatter(total[\"ID\"], total[\"GS_ALL_TIME_COUNT\"])\n",
    "        plt.xlabel(\"Number of \"+function+\" \"+role+\" Comments\")\n",
    "        plt.ylabel(\"Number of Deployments\")\n",
    "        plt.title(\"Deployments vs. \"+function+\" \"+role+\" Comments\")\n",
    "        plt.savefig(\"\"+function+\"_\"+role+\"_Deployments_vs._Comments.png\")\n"
   ]
  },
  {
   "cell_type": "code",
   "execution_count": null,
   "metadata": {},
   "outputs": [],
   "source": [
    "# Visualizations for comments and posts\n",
    "\n",
    "df_topic = df_com[df_com['TOPIC_NAME'].str.contains(\"GigaSpire|Gigaspire|GigaCenter|Gigecenter|Gigaspre|Gigafamily|GigaGamily|Giga Spire|GIgaSpire\")]\n",
    "\n",
    "df_comments = df_topic[df_topic['ENTITY_TYPE'].str.contains(\"Comment\")]\n",
    "\n",
    "dep_agg = df_dep.groupby(by=['ORACLE_ID']).GS_ALL_TIME_COUNT.sum().reset_index()\n",
    "com_agg = df_comments.groupby(by=['ACCOUNT_ORACLE_ID']).count().reset_index()[['ACCOUNT_ORACLE_ID', 'ID']]\n",
    "\n",
    "dep_agg[\"ORACLE_ID\"] = dep_agg[\"ORACLE_ID\"].astype(float)\n",
    "com_agg[\"ACCOUNT_ORACLE_ID\"] = com_agg[\"ACCOUNT_ORACLE_ID\"].astype(float)\n",
    "\n",
    "\n",
    "total = pd.merge(dep_agg, com_agg, left_on='ORACLE_ID', right_on='ACCOUNT_ORACLE_ID')\n",
    "\n",
    "\n",
    "plt.clf()\n",
    "plt.scatter(total[\"ID\"], total[\"GS_ALL_TIME_COUNT\"])\n",
    "plt.xlabel(\"Number of GigaSpire-Related Comments\")\n",
    "plt.ylabel(\"Number of Deployments\")\n",
    "plt.title(\"Deployments vs. GigaSpire Comments\")\n",
    "plt.savefig(\"Deployments_vs._GigaSpire_Comments.png\")\n",
    "\n"
   ]
  },
  {
   "cell_type": "code",
   "execution_count": 14,
   "metadata": {},
   "outputs": [
    {
     "name": "stderr",
     "output_type": "stream",
     "text": [
      "C:\\Users\\nmathur\\AppData\\Local\\Temp\\ipykernel_11592\\3326929472.py:12: SettingWithCopyWarning: \n",
      "A value is trying to be set on a copy of a slice from a DataFrame.\n",
      "Try using .loc[row_indexer,col_indexer] = value instead\n",
      "\n",
      "See the caveats in the documentation: https://pandas.pydata.org/pandas-docs/stable/user_guide/indexing.html#returning-a-view-versus-a-copy\n",
      "  com_agg[\"NORMALIZED_INTS\"] = com_agg[\"ACTIVITY_COUNT\"] / com_agg[\"ACTIVITY_MEMBER_COUNT\"]\n",
      "C:\\Users\\nmathur\\AppData\\Local\\Temp\\ipykernel_11592\\3326929472.py:15: SettingWithCopyWarning: \n",
      "A value is trying to be set on a copy of a slice from a DataFrame.\n",
      "Try using .loc[row_indexer,col_indexer] = value instead\n",
      "\n",
      "See the caveats in the documentation: https://pandas.pydata.org/pandas-docs/stable/user_guide/indexing.html#returning-a-view-versus-a-copy\n",
      "  com_agg[\"ACCOUNT_ORACLE_ID\"] = com_agg[\"ACCOUNT_ORACLE_ID\"].astype(int)\n"
     ]
    },
    {
     "data": {
      "image/png": "[encoded data removed]",
      "text/plain": [
       "<Figure size 640x480 with 1 Axes>"
      ]
     },
     "metadata": {},
     "output_type": "display_data"
    }
   ],
   "source": [
    "# Visualizations for normalization\n",
    "\n",
    "# Deployments\n",
    "dep_count = df_dep.groupby(by=['ORACLE_ID']).GS_30_DAYS_COUNT.sum().reset_index()\n",
    "dep_subs = df_dep.groupby(by=['ORACLE_ID']).GS_SUBSCRIBERS.sum().reset_index()\n",
    "\n",
    "dep_agg = pd.merge(dep_count, dep_subs, left_on='ORACLE_ID', right_on='ORACLE_ID')\n",
    "dep_agg['NORMALIZED_DEPS'] = dep_agg[\"GS_30_DAYS_COUNT\"] / dep_agg[\"GS_SUBSCRIBERS\"]\n",
    "\n",
    "# Comments\n",
    "com_agg = df_com.query(\"TOTAL_MEMBERS > 0 & ACCOUNT_ORACLE_ID != 'None'\")\n",
    "com_agg[\"NORMALIZED_INTS\"] = com_agg[\"ACTIVITY_COUNT\"] / com_agg[\"ACTIVITY_MEMBER_COUNT\"]\n",
    "\n",
    "dep_agg[\"ORACLE_ID\"] = dep_agg[\"ORACLE_ID\"].astype(int)\n",
    "com_agg[\"ACCOUNT_ORACLE_ID\"] = com_agg[\"ACCOUNT_ORACLE_ID\"].astype(int)\n",
    "\n",
    "total = pd.merge(dep_agg, com_agg, left_on='ORACLE_ID', right_on='ACCOUNT_ORACLE_ID')\n",
    "\n",
    "plt.clf()\n",
    "plt.scatter(total[\"NORMALIZED_INTS\"], total[\"NORMALIZED_DEPS\"])\n",
    "plt.xlabel(\"Number of Interactions per Employee\")\n",
    "plt.ylabel(\"Number of Deployments per Subscriber\")\n",
    "plt.title(\"Deployments vs. Recent Customer Interactions (Normalized for Dec 2022)\")\n",
    "plt.savefig(\"Recent_Norm_Interactions_vs_GS_Deployments_30DAY.png\")\n"
   ]
  }
 ],
 "metadata": {
  "kernelspec": {
   "display_name": "Python 3",
   "language": "python",
   "name": "python3"
  },
  "language_info": {
   "codemirror_mode": {
    "name": "ipython",
    "version": 3
   },
   "file_extension": ".py",
   "mimetype": "text/x-python",
   "name": "python",
   "nbconvert_exporter": "python",
   "pygments_lexer": "ipython3",
   "version": "3.9.10"
  },
  "orig_nbformat": 4
 },
 "nbformat": 4,
 "nbformat_minor": 2
}
